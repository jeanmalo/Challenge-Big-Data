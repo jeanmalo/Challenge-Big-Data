{
 "cells": [
  {
   "cell_type": "markdown",
   "metadata": {},
   "source": [
    "# Challenge TextRecognition Apprentissage Profond\n",
    "Auteur : JMLD - AD - CN\n",
    "Date : 30/01/2017"
   ]
  },
  {
   "cell_type": "code",
   "execution_count": 1,
   "metadata": {
    "collapsed": false
   },
   "outputs": [],
   "source": [
    "import tensorflow as tf\n",
    "import pandas as pd\n",
    "import numpy as np\n",
    "import random\n",
    "import gensim\n",
    "import pickle\n",
    "import logging\n",
    "\n",
    "import zipfile\n",
    "import collections\n",
    "\n",
    "%matplotlib inline\n",
    "\n",
    "import warnings\n",
    "warnings.filterwarnings('ignore')\n",
    "import random\n",
    "\n",
    "from sklearn import preprocessing\n",
    "le = preprocessing.LabelEncoder()\n",
    "import pandas as pd\n",
    "\n",
    "import matplotlib.pyplot as plt\n",
    "import numpy as np"
   ]
  },
  {
   "cell_type": "code",
   "execution_count": 2,
   "metadata": {
    "collapsed": false
   },
   "outputs": [
    {
     "data": {
      "text/plain": [
       "Cible    object\n",
       "Mot1     object\n",
       "Mot2     object\n",
       "Mot3     object\n",
       "Mot4     object\n",
       "Mot5     object\n",
       "Mot6     object\n",
       "Mot7     object\n",
       "Mot8     object\n",
       "Mot9     object\n",
       "Mot10    object\n",
       "dtype: object"
      ]
     },
     "execution_count": 2,
     "metadata": {},
     "output_type": "execute_result"
    }
   ],
   "source": [
    "datapath = \"../IntroductionDL/\"\n",
    "trainf = \"calldesk-intents.txt\"\n",
    "dataf = datapath + trainf\n",
    "train = pd.read_csv(dataf,names=['Cible','Mot1','Mot2','Mot3','Mot4','Mot5','Mot6','Mot7','Mot8','Mot9','Mot10'],dtype=str,delim_whitespace=True)\n",
    "train.dtypes"
   ]
  },
  {
   "cell_type": "code",
   "execution_count": 3,
   "metadata": {
    "collapsed": true
   },
   "outputs": [],
   "source": [
    "logging.basicConfig(format='%(levelname)s : %(message)s', level=logging.INFO)  # %(asctime)s"
   ]
  },
  {
   "cell_type": "code",
   "execution_count": 4,
   "metadata": {
    "collapsed": true
   },
   "outputs": [],
   "source": [
    "model = gensim.models.Word2Vec(size=200, sg=1, alpha=0.05, window=5, batch_words=1000, min_count=1, workers=2, negative=10, iter=10)"
   ]
  },
  {
   "cell_type": "code",
   "execution_count": 5,
   "metadata": {
    "collapsed": false
   },
   "outputs": [],
   "source": [
    "sentences = gensim.models.word2vec.LineSentence('calldesk-intents.txt')"
   ]
  },
  {
   "cell_type": "code",
   "execution_count": 6,
   "metadata": {
    "collapsed": false
   },
   "outputs": [
    {
     "name": "stderr",
     "output_type": "stream",
     "text": [
      "INFO : collecting all words and their counts\n",
      "INFO : PROGRESS: at sentence #0, processed 0 words, keeping 0 word types\n",
      "INFO : collected 342 word types from a corpus of 6687 raw words and 800 sentences\n",
      "INFO : Loading a fresh vocabulary\n",
      "INFO : min_count=1 retains 342 unique words (100% of original 342, drops 0)\n",
      "INFO : min_count=1 leaves 6687 word corpus (100% of original 6687, drops 0)\n",
      "INFO : deleting the raw counts dictionary of 342 items\n",
      "INFO : sample=0.001 downsamples 56 most-common words\n",
      "INFO : downsampling leaves estimated 2586 word corpus (38.7% of prior 6687)\n",
      "INFO : estimated required memory for 342 words and 200 dimensions: 718200 bytes\n",
      "INFO : resetting layer weights\n"
     ]
    }
   ],
   "source": [
    "model.build_vocab(sentences)"
   ]
  },
  {
   "cell_type": "code",
   "execution_count": 7,
   "metadata": {
    "collapsed": false
   },
   "outputs": [
    {
     "name": "stderr",
     "output_type": "stream",
     "text": [
      "INFO : training model with 2 workers on 342 vocabulary and 200 features, using sg=1 hs=0 sample=0.001 negative=10 window=5\n",
      "INFO : expecting 800 sentences, matching count from corpus used for vocabulary survey\n",
      "INFO : worker thread finished; awaiting finish of 1 more threads\n",
      "INFO : worker thread finished; awaiting finish of 0 more threads\n",
      "INFO : training on 66870 raw words (25848 effective words) took 0.2s, 158492 effective words/s\n"
     ]
    },
    {
     "data": {
      "text/plain": [
       "25848"
      ]
     },
     "execution_count": 7,
     "metadata": {},
     "output_type": "execute_result"
    }
   ],
   "source": [
    "model.train(sentences)"
   ]
  },
  {
   "cell_type": "code",
   "execution_count": 8,
   "metadata": {
    "collapsed": false
   },
   "outputs": [
    {
     "name": "stderr",
     "output_type": "stream",
     "text": [
      "INFO : saving Word2Vec object under ./calldesk-intents-model, separately None\n",
      "INFO : not storing attribute cum_table\n",
      "INFO : not storing attribute syn0norm\n",
      "INFO : saved ./calldesk-intents-model\n"
     ]
    }
   ],
   "source": [
    "model.save('./' + 'calldesk-intents-model')"
   ]
  },
  {
   "cell_type": "code",
   "execution_count": 9,
   "metadata": {
    "collapsed": false
   },
   "outputs": [
    {
     "data": {
      "text/plain": [
       "{'$NUMBER$': 216,\n",
       " '$TIME$': 0,\n",
       " '15h': 240,\n",
       " 'Confirm': 29,\n",
       " 'Infirm': 14,\n",
       " 'NewAppointment': 1,\n",
       " 'OK': 319,\n",
       " 'Propose': 9,\n",
       " 'S': 306,\n",
       " 'TIME': 110,\n",
       " 'Transfer': 55,\n",
       " 'a': 62,\n",
       " 'a-t-il': 229,\n",
       " 'absolument': 59,\n",
       " 'accessible': 202,\n",
       " 'accord': 254,\n",
       " 'ah': 67,\n",
       " 'ai': 47,\n",
       " 'aimerai': 219,\n",
       " 'aimerais': 48,\n",
       " 'aimé': 230,\n",
       " 'ajouter': 260,\n",
       " 'aller': 106,\n",
       " 'allez': 107,\n",
       " 'alors': 125,\n",
       " 'amour': 313,\n",
       " 'annonce': 308,\n",
       " 'appelle': 22,\n",
       " 'après': 149,\n",
       " 'arrangerait': 338,\n",
       " 'arrive': 303,\n",
       " 'as': 187,\n",
       " 'attendez': 127,\n",
       " 'attends': 259,\n",
       " 'au': 76,\n",
       " 'aurai': 327,\n",
       " 'aurais': 137,\n",
       " 'aurez': 258,\n",
       " 'auriez-vous': 283,\n",
       " 'aussi': 333,\n",
       " 'autant': 299,\n",
       " 'autour': 245,\n",
       " 'autre': 188,\n",
       " 'autres': 322,\n",
       " 'avais': 199,\n",
       " 'avec': 12,\n",
       " 'avez': 44,\n",
       " 'avez-vous': 86,\n",
       " 'avoir': 143,\n",
       " 'bah': 167,\n",
       " 'beaucoup': 104,\n",
       " 'ben': 144,\n",
       " 'besoin': 273,\n",
       " 'bien': 51,\n",
       " 'bon': 84,\n",
       " 'bonjour': 18,\n",
       " 'bonne': 200,\n",
       " 'c': 24,\n",
       " 'ca': 88,\n",
       " 'cabinet': 122,\n",
       " 'car': 252,\n",
       " 'cas': 284,\n",
       " 'ce': 79,\n",
       " 'cherche': 255,\n",
       " 'chez': 164,\n",
       " 'choix': 323,\n",
       " 'chose': 263,\n",
       " 'cible': 290,\n",
       " 'classe': 204,\n",
       " 'comme': 124,\n",
       " 'comprenez': 172,\n",
       " 'compétent': 139,\n",
       " 'confiance': 289,\n",
       " 'confirme': 101,\n",
       " 'consultation': 118,\n",
       " 'contre': 156,\n",
       " 'contrôle': 222,\n",
       " 'convient': 121,\n",
       " 'créneau': 78,\n",
       " 'créneaux': 135,\n",
       " 'd': 90,\n",
       " 'dame': 272,\n",
       " 'dans': 126,\n",
       " 'danser': 280,\n",
       " 'de': 30,\n",
       " 'delaplace': 328,\n",
       " 'demandais': 239,\n",
       " 'demande': 251,\n",
       " 'demander': 129,\n",
       " 'demandé': 87,\n",
       " 'demi': 291,\n",
       " 'des': 215,\n",
       " 'dire': 253,\n",
       " 'dis': 218,\n",
       " 'dis-moi': 138,\n",
       " 'disponible': 64,\n",
       " 'disponibles': 286,\n",
       " 'dit': 161,\n",
       " 'doc': 266,\n",
       " 'docteur': 11,\n",
       " 'dois': 21,\n",
       " 'donne-moi': 264,\n",
       " 'donnez': 168,\n",
       " 'dos': 214,\n",
       " 'du': 45,\n",
       " 'durand': 68,\n",
       " 'dès': 162,\n",
       " 'désolé': 326,\n",
       " 'en': 63,\n",
       " 'encore': 83,\n",
       " 'enfaite': 174,\n",
       " 'enfin': 210,\n",
       " 'entendu': 103,\n",
       " 'envie': 341,\n",
       " 'envoie': 265,\n",
       " 'envoyez-moi': 279,\n",
       " 'esprit': 226,\n",
       " 'essaie': 249,\n",
       " 'essaye': 315,\n",
       " 'est': 19,\n",
       " 'est-ce': 31,\n",
       " 'et': 176,\n",
       " 'euh': 213,\n",
       " 'faire': 102,\n",
       " 'fais': 330,\n",
       " 'fait': 93,\n",
       " 'faut': 310,\n",
       " 'finalement': 165,\n",
       " 'fois': 243,\n",
       " 'férié': 300,\n",
       " 'glace': 228,\n",
       " 'hasard': 320,\n",
       " 'hein': 256,\n",
       " 'hi': 248,\n",
       " 'horaires': 318,\n",
       " 'humain': 147,\n",
       " 'idéalement': 221,\n",
       " 'il': 13,\n",
       " 'impossible': 85,\n",
       " 'iphone': 311,\n",
       " 'ira': 227,\n",
       " 'irai': 305,\n",
       " 'j': 17,\n",
       " 'jacques': 295,\n",
       " 'jamais': 152,\n",
       " 'je': 3,\n",
       " 'jouons': 206,\n",
       " 'jour': 317,\n",
       " 'journée': 183,\n",
       " 'justement': 297,\n",
       " 'la': 26,\n",
       " 'le': 8,\n",
       " 'les': 142,\n",
       " 'libre': 337,\n",
       " 'là': 134,\n",
       " 'm': 72,\n",
       " 'ma': 304,\n",
       " 'madame': 141,\n",
       " 'mais': 61,\n",
       " 'mal': 114,\n",
       " 'malade': 185,\n",
       " 'marche': 298,\n",
       " 'martin': 212,\n",
       " 'me': 60,\n",
       " 'merci': 120,\n",
       " 'midi': 157,\n",
       " 'mieux': 150,\n",
       " 'mis': 309,\n",
       " 'moi': 52,\n",
       " 'mois': 116,\n",
       " 'mon': 136,\n",
       " 'monsieur': 231,\n",
       " 'médecin': 191,\n",
       " 'n': 151,\n",
       " 'nan': 331,\n",
       " 'ne': 40,\n",
       " 'ni': 192,\n",
       " 'nom': 321,\n",
       " 'non': 20,\n",
       " 'nous': 324,\n",
       " 'nouveau': 41,\n",
       " 'obtenir': 37,\n",
       " 'occupé': 281,\n",
       " 'ok': 237,\n",
       " 'okay': 132,\n",
       " 'on': 112,\n",
       " 'ou': 99,\n",
       " 'ouais': 81,\n",
       " 'oui': 7,\n",
       " 'ouvert': 268,\n",
       " 'par': 130,\n",
       " 'parce': 92,\n",
       " 'parfait': 74,\n",
       " 'parler': 100,\n",
       " 'parles': 312,\n",
       " 'partir': 105,\n",
       " 'pas': 25,\n",
       " 'passe': 109,\n",
       " 'passe-t-il': 238,\n",
       " 'passer': 194,\n",
       " 'passerai': 163,\n",
       " 'passez': 175,\n",
       " 'passé': 235,\n",
       " 'pe': 307,\n",
       " 'pensais': 190,\n",
       " 'pense': 198,\n",
       " 'personnes': 203,\n",
       " 'petite': 241,\n",
       " 'peu': 70,\n",
       " 'peur': 179,\n",
       " 'peux': 39,\n",
       " 'peux-tu': 261,\n",
       " 'picard': 234,\n",
       " 'piscine': 140,\n",
       " 'place': 27,\n",
       " 'plage': 224,\n",
       " 'plait': 89,\n",
       " 'plaît': 15,\n",
       " 'plus': 35,\n",
       " 'plutôt': 43,\n",
       " 'possibilité': 247,\n",
       " 'possible': 32,\n",
       " 'pour': 5,\n",
       " 'pourrai': 153,\n",
       " 'pourrais': 145,\n",
       " 'pouvez': 193,\n",
       " 'prendra': 244,\n",
       " 'prendre': 10,\n",
       " 'prends': 98,\n",
       " 'pris': 173,\n",
       " 'prochain': 146,\n",
       " 'prochains': 209,\n",
       " 'proposer': 301,\n",
       " 'proposez-moi': 302,\n",
       " 'préfère': 82,\n",
       " 'préférais': 257,\n",
       " 'préférer': 314,\n",
       " 'préférerai': 205,\n",
       " 'préférerais': 111,\n",
       " 'préféré': 334,\n",
       " 'puisque': 232,\n",
       " 'qu': 94,\n",
       " 'quand': 267,\n",
       " 'que': 28,\n",
       " 'quel': 195,\n",
       " 'quelle': 294,\n",
       " 'quelqu': 117,\n",
       " 'quels': 169,\n",
       " 'qui': 217,\n",
       " 'quoi': 170,\n",
       " 'regarde': 288,\n",
       " 'relation': 336,\n",
       " 'remercie': 166,\n",
       " 'rendez': 197,\n",
       " 'rendez-vous': 2,\n",
       " 'reprend': 325,\n",
       " 'reprends': 339,\n",
       " 'revenir': 128,\n",
       " 'reviens': 269,\n",
       " 'revoir': 177,\n",
       " 'rien': 108,\n",
       " 'risque': 276,\n",
       " 'robot': 271,\n",
       " 'répondre': 316,\n",
       " 'réservation': 196,\n",
       " 'réserver': 33,\n",
       " 'réservez': 186,\n",
       " 's': 16,\n",
       " 'sais': 96,\n",
       " 'saoule': 274,\n",
       " 'savoir': 80,\n",
       " 'se': 133,\n",
       " 'secrétaire': 184,\n",
       " 'secrétariat': 159,\n",
       " 'serai': 178,\n",
       " 'serait': 73,\n",
       " 'serait-ce': 201,\n",
       " 'serveur': 155,\n",
       " 'servez': 158,\n",
       " 'seulement': 171,\n",
       " 'si': 54,\n",
       " 'signifie': 233,\n",
       " 'soit': 262,\n",
       " 'sont': 189,\n",
       " 'sors': 340,\n",
       " 'souhaitais': 181,\n",
       " 'souhaite': 65,\n",
       " 'souhaiterai': 296,\n",
       " 'souhaiterais': 97,\n",
       " 'suis': 46,\n",
       " 'super': 242,\n",
       " 'supplay': 208,\n",
       " 'sur': 148,\n",
       " 'sûr': 282,\n",
       " 't': 277,\n",
       " 'ta': 278,\n",
       " 'tard': 38,\n",
       " 'te': 66,\n",
       " 'tout': 49,\n",
       " 'toute': 329,\n",
       " 'transférez-moi': 113,\n",
       " 'transféré': 287,\n",
       " 'travail': 211,\n",
       " 'trompé': 223,\n",
       " 'trop': 75,\n",
       " 'trouve': 250,\n",
       " 'truc': 332,\n",
       " 'très': 71,\n",
       " 'tu': 77,\n",
       " 'tôt': 53,\n",
       " 'u': 131,\n",
       " 'un': 4,\n",
       " 'une': 58,\n",
       " 'uniquement': 335,\n",
       " 'urgence': 207,\n",
       " 'va': 57,\n",
       " 'vacances': 270,\n",
       " 'vais': 50,\n",
       " 'vas': 292,\n",
       " 'venir': 56,\n",
       " 'vers': 119,\n",
       " 'veux': 23,\n",
       " 'viens': 285,\n",
       " 'visite': 236,\n",
       " 'vite': 154,\n",
       " 'voila': 246,\n",
       " 'voilà': 123,\n",
       " 'voir': 69,\n",
       " 'vos': 220,\n",
       " 'voudrai': 160,\n",
       " 'voudrais': 42,\n",
       " 'voulais': 182,\n",
       " 'voulu': 225,\n",
       " 'vous': 6,\n",
       " 'vraiment': 180,\n",
       " 'y': 95,\n",
       " 'ya': 275,\n",
       " 'à': 34,\n",
       " 'ça': 36,\n",
       " 'échographie': 293,\n",
       " 'êtes': 115,\n",
       " 'être': 91}"
      ]
     },
     "execution_count": 9,
     "metadata": {},
     "output_type": "execute_result"
    }
   ],
   "source": [
    "# Extract vocabulary dictionnary:\n",
    "vocabulary_dict = {}\n",
    "for key, value in model.wv.vocab.items():\n",
    "    vocabulary_dict[str(key)] = int(str(value).split(\"index:\")[1].split(\",\", 1)[0])\n",
    "vocabulary_dict"
   ]
  },
  {
   "cell_type": "code",
   "execution_count": 10,
   "metadata": {
    "collapsed": false
   },
   "outputs": [
    {
     "data": {
      "text/plain": [
       "(342, 200)"
      ]
     },
     "execution_count": 10,
     "metadata": {},
     "output_type": "execute_result"
    }
   ],
   "source": [
    "# Extract embedding matrix:\n",
    "embedding_matrix = model.wv.syn0\n",
    "embedding_matrix.shape\n",
    "##print(embedding_matrix[0, :5])"
   ]
  },
  {
   "cell_type": "code",
   "execution_count": 11,
   "metadata": {
    "collapsed": false
   },
   "outputs": [
    {
     "data": {
      "text/plain": [
       "dict_items([('jouons', <gensim.models.word2vec.Vocab object at 0x11effa668>), ('à', <gensim.models.word2vec.Vocab object at 0x11effa358>), ('avais', <gensim.models.word2vec.Vocab object at 0x11effa400>), ('durand', <gensim.models.word2vec.Vocab object at 0x11effa2b0>), ('appelle', <gensim.models.word2vec.Vocab object at 0x11effa128>), ('jamais', <gensim.models.word2vec.Vocab object at 0x11effa438>), ('bonne', <gensim.models.word2vec.Vocab object at 0x11effa080>), ('sais', <gensim.models.word2vec.Vocab object at 0x11effa470>), ('peux', <gensim.models.word2vec.Vocab object at 0x11effa4e0>), ('voir', <gensim.models.word2vec.Vocab object at 0x11effa4a8>), ('serait-ce', <gensim.models.word2vec.Vocab object at 0x11effa518>), ('accessible', <gensim.models.word2vec.Vocab object at 0x11effa550>), ('personnes', <gensim.models.word2vec.Vocab object at 0x11effa588>), ('classe', <gensim.models.word2vec.Vocab object at 0x11effa5c0>), ('préférerai', <gensim.models.word2vec.Vocab object at 0x11effa5f8>), ('allez', <gensim.models.word2vec.Vocab object at 0x11effa630>), ('pense', <gensim.models.word2vec.Vocab object at 0x11effa3c8>), ('urgence', <gensim.models.word2vec.Vocab object at 0x11effa6a0>), ('attendez', <gensim.models.word2vec.Vocab object at 0x11effa6d8>), ('supplay', <gensim.models.word2vec.Vocab object at 0x11effa710>), ('prochains', <gensim.models.word2vec.Vocab object at 0x11effa748>), ('enfin', <gensim.models.word2vec.Vocab object at 0x11effa780>), ('travail', <gensim.models.word2vec.Vocab object at 0x11effa7b8>), ('souhaiterais', <gensim.models.word2vec.Vocab object at 0x11effa7f0>), ('martin', <gensim.models.word2vec.Vocab object at 0x11effa828>), ('une', <gensim.models.word2vec.Vocab object at 0x11effa860>), ('mais', <gensim.models.word2vec.Vocab object at 0x11effa898>), ('rien', <gensim.models.word2vec.Vocab object at 0x11effa8d0>), ('euh', <gensim.models.word2vec.Vocab object at 0x11effa908>), ('possibilité', <gensim.models.word2vec.Vocab object at 0x11effcb38>), ('des', <gensim.models.word2vec.Vocab object at 0x11effa978>), ('$NUMBER$', <gensim.models.word2vec.Vocab object at 0x11effa9b0>), ('encore', <gensim.models.word2vec.Vocab object at 0x11effa9e8>), ('docteur', <gensim.models.word2vec.Vocab object at 0x11effaa20>), ('absolument', <gensim.models.word2vec.Vocab object at 0x11effec18>), ('pourrai', <gensim.models.word2vec.Vocab object at 0x11effaa90>), ('vite', <gensim.models.word2vec.Vocab object at 0x11effab00>), ('pour', <gensim.models.word2vec.Vocab object at 0x11effab38>), ('revenir', <gensim.models.word2vec.Vocab object at 0x11effab70>), ('tu', <gensim.models.word2vec.Vocab object at 0x11effaba8>), ('prendre', <gensim.models.word2vec.Vocab object at 0x11effc1d0>), ('aimerai', <gensim.models.word2vec.Vocab object at 0x11effac50>), ('vos', <gensim.models.word2vec.Vocab object at 0x11effac88>), ('par', <gensim.models.word2vec.Vocab object at 0x11effacc0>), ('Confirm', <gensim.models.word2vec.Vocab object at 0x11effacf8>), ('serveur', <gensim.models.word2vec.Vocab object at 0x11effad30>), ('idéalement', <gensim.models.word2vec.Vocab object at 0x11effad68>), ('dois', <gensim.models.word2vec.Vocab object at 0x11f0022e8>), ('u', <gensim.models.word2vec.Vocab object at 0x11effadd8>), ('contrôle', <gensim.models.word2vec.Vocab object at 0x11effae10>), ('contre', <gensim.models.word2vec.Vocab object at 0x11effae48>), ('trompé', <gensim.models.word2vec.Vocab object at 0x11effae80>), ('plage', <gensim.models.word2vec.Vocab object at 0x11effaeb8>), ('voulu', <gensim.models.word2vec.Vocab object at 0x11effaef0>), ('esprit', <gensim.models.word2vec.Vocab object at 0x11effaf28>), ('midi', <gensim.models.word2vec.Vocab object at 0x11effaf60>), ('okay', <gensim.models.word2vec.Vocab object at 0x11effaf98>), ('ira', <gensim.models.word2vec.Vocab object at 0x11effafd0>), ('se', <gensim.models.word2vec.Vocab object at 0x11effc048>), ('glace', <gensim.models.word2vec.Vocab object at 0x11effc080>), ('là', <gensim.models.word2vec.Vocab object at 0x11effc0b8>), ('servez', <gensim.models.word2vec.Vocab object at 0x11effc128>), ('a-t-il', <gensim.models.word2vec.Vocab object at 0x11effc160>), ('aimé', <gensim.models.word2vec.Vocab object at 0x11effc198>), ('un', <gensim.models.word2vec.Vocab object at 0x11effc208>), ('monsieur', <gensim.models.word2vec.Vocab object at 0x11effc240>), ('nouveau', <gensim.models.word2vec.Vocab object at 0x11f000400>), ('place', <gensim.models.word2vec.Vocab object at 0x11effc278>), ('proposer', <gensim.models.word2vec.Vocab object at 0x11f0009e8>), ('plaît', <gensim.models.word2vec.Vocab object at 0x11effc2b0>), ('préférerais', <gensim.models.word2vec.Vocab object at 0x11effc2e8>), ('puisque', <gensim.models.word2vec.Vocab object at 0x11effc320>), ('vraiment', <gensim.models.word2vec.Vocab object at 0x11f0005f8>), ('plait', <gensim.models.word2vec.Vocab object at 0x11effc358>), ('signifie', <gensim.models.word2vec.Vocab object at 0x11effc3c8>), ('d', <gensim.models.word2vec.Vocab object at 0x11effc400>), ('et', <gensim.models.word2vec.Vocab object at 0x11effed68>), ('passé', <gensim.models.word2vec.Vocab object at 0x11effc470>), ('en', <gensim.models.word2vec.Vocab object at 0x11effc4a8>), ('visite', <gensim.models.word2vec.Vocab object at 0x11effc4e0>), ('secrétariat', <gensim.models.word2vec.Vocab object at 0x11effc518>), ('ok', <gensim.models.word2vec.Vocab object at 0x11effc550>), ('souhaite', <gensim.models.word2vec.Vocab object at 0x11f000630>), ('demandais', <gensim.models.word2vec.Vocab object at 0x11effc5c0>), ('mon', <gensim.models.word2vec.Vocab object at 0x11effc5f8>), ('15h', <gensim.models.word2vec.Vocab object at 0x11effc630>), ('oui', <gensim.models.word2vec.Vocab object at 0x11effc668>), ('voudrai', <gensim.models.word2vec.Vocab object at 0x11effc6a0>), ('petite', <gensim.models.word2vec.Vocab object at 0x11effc6d8>), ('dit', <gensim.models.word2vec.Vocab object at 0x11effc710>), ('super', <gensim.models.word2vec.Vocab object at 0x11effc748>), ('dès', <gensim.models.word2vec.Vocab object at 0x11effc780>), ('veux', <gensim.models.word2vec.Vocab object at 0x11effc7b8>), ('passerai', <gensim.models.word2vec.Vocab object at 0x11effc7f0>), ('fait', <gensim.models.word2vec.Vocab object at 0x11effc860>), ('possible', <gensim.models.word2vec.Vocab object at 0x11effc898>), ('on', <gensim.models.word2vec.Vocab object at 0x11effc8d0>), ('la', <gensim.models.word2vec.Vocab object at 0x11effec50>), ('tout', <gensim.models.word2vec.Vocab object at 0x11effc940>), ('prendra', <gensim.models.word2vec.Vocab object at 0x11effc978>), ('bon', <gensim.models.word2vec.Vocab object at 0x11effc9b0>), ('aurais', <gensim.models.word2vec.Vocab object at 0x11effc9e8>), ('autour', <gensim.models.word2vec.Vocab object at 0x11effca20>), ('voila', <gensim.models.word2vec.Vocab object at 0x11effca58>), ('impossible', <gensim.models.word2vec.Vocab object at 0x11effca90>), ('transférez-moi', <gensim.models.word2vec.Vocab object at 0x11effcac8>), ('finalement', <gensim.models.word2vec.Vocab object at 0x11effcb00>), ('passe', <gensim.models.word2vec.Vocab object at 0x11effac18>), ('hi', <gensim.models.word2vec.Vocab object at 0x11effcb70>), ('moi', <gensim.models.word2vec.Vocab object at 0x11effec88>), ('je', <gensim.models.word2vec.Vocab object at 0x11effcbe0>), ('essaie', <gensim.models.word2vec.Vocab object at 0x11effcc18>), ('ai', <gensim.models.word2vec.Vocab object at 0x11effcc50>), ('prends', <gensim.models.word2vec.Vocab object at 0x11effcc88>), ('de', <gensim.models.word2vec.Vocab object at 0x11effccc0>), ('trouve', <gensim.models.word2vec.Vocab object at 0x11effccf8>), ('mal', <gensim.models.word2vec.Vocab object at 0x11effcd30>), ('secrétaire', <gensim.models.word2vec.Vocab object at 0x11f0007b8>), ('peu', <gensim.models.word2vec.Vocab object at 0x11effcda0>), ('car', <gensim.models.word2vec.Vocab object at 0x11effcdd8>), ('tôt', <gensim.models.word2vec.Vocab object at 0x11effce10>), ('hein', <gensim.models.word2vec.Vocab object at 0x11effe080>), ('remercie', <gensim.models.word2vec.Vocab object at 0x11effce48>), ('bah', <gensim.models.word2vec.Vocab object at 0x11effce80>), ('non', <gensim.models.word2vec.Vocab object at 0x11effceb8>), ('dire', <gensim.models.word2vec.Vocab object at 0x11effcef0>), ('accord', <gensim.models.word2vec.Vocab object at 0x11effcf28>), ('cherche', <gensim.models.word2vec.Vocab object at 0x11effcf60>), ('plus', <gensim.models.word2vec.Vocab object at 0x11effcf98>), ('donnez', <gensim.models.word2vec.Vocab object at 0x11effcfd0>), ('le', <gensim.models.word2vec.Vocab object at 0x11f000898>), ('NewAppointment', <gensim.models.word2vec.Vocab object at 0x11effe048>), ('bonjour', <gensim.models.word2vec.Vocab object at 0x11effc0f0>), ('bien', <gensim.models.word2vec.Vocab object at 0x11effea20>), ('compétent', <gensim.models.word2vec.Vocab object at 0x11effe0f0>), ('créneau', <gensim.models.word2vec.Vocab object at 0x11effe128>), ('est', <gensim.models.word2vec.Vocab object at 0x11f000908>), ('aurez', <gensim.models.word2vec.Vocab object at 0x11effe198>), ('du', <gensim.models.word2vec.Vocab object at 0x11effe1d0>), ('ou', <gensim.models.word2vec.Vocab object at 0x11effe208>), ('ah', <gensim.models.word2vec.Vocab object at 0x11effe240>), ('attends', <gensim.models.word2vec.Vocab object at 0x11effe278>), ('ajouter', <gensim.models.word2vec.Vocab object at 0x11effe2b0>), ('si', <gensim.models.word2vec.Vocab object at 0x11effe2e8>), ('peux-tu', <gensim.models.word2vec.Vocab object at 0x11effe320>), ('rendez-vous', <gensim.models.word2vec.Vocab object at 0x11effe358>), ('Infirm', <gensim.models.word2vec.Vocab object at 0x11effe390>), ('soit', <gensim.models.word2vec.Vocab object at 0x11effe3c8>), ('vers', <gensim.models.word2vec.Vocab object at 0x11f000c50>), ('piscine', <gensim.models.word2vec.Vocab object at 0x11effe438>), ('chose', <gensim.models.word2vec.Vocab object at 0x11effe470>), ('cabinet', <gensim.models.word2vec.Vocab object at 0x11f0020f0>), ('quoi', <gensim.models.word2vec.Vocab object at 0x11effe4e0>), ('OK', <gensim.models.word2vec.Vocab object at 0x11f002470>), ('envoie', <gensim.models.word2vec.Vocab object at 0x11effe550>), ('doc', <gensim.models.word2vec.Vocab object at 0x11effe588>), ('suis', <gensim.models.word2vec.Vocab object at 0x11effeb00>), ('Transfer', <gensim.models.word2vec.Vocab object at 0x11effe5f8>), ('quand', <gensim.models.word2vec.Vocab object at 0x11effe630>), ('mois', <gensim.models.word2vec.Vocab object at 0x11effe668>), ('comprenez', <gensim.models.word2vec.Vocab object at 0x11effe6a0>), ('pris', <gensim.models.word2vec.Vocab object at 0x11effe6d8>), ('vais', <gensim.models.word2vec.Vocab object at 0x11effe710>), ('enfaite', <gensim.models.word2vec.Vocab object at 0x11effe748>), ('ouvert', <gensim.models.word2vec.Vocab object at 0x11effe780>), ('j', <gensim.models.word2vec.Vocab object at 0x11effe7b8>), ('reviens', <gensim.models.word2vec.Vocab object at 0x11effe7f0>), ('madame', <gensim.models.word2vec.Vocab object at 0x11effe828>), ('s', <gensim.models.word2vec.Vocab object at 0x11effe860>), ('passez', <gensim.models.word2vec.Vocab object at 0x11effe898>), ('vacances', <gensim.models.word2vec.Vocab object at 0x11effe8d0>), ('robot', <gensim.models.word2vec.Vocab object at 0x11effe908>), ('dame', <gensim.models.word2vec.Vocab object at 0x11effe940>), ('besoin', <gensim.models.word2vec.Vocab object at 0x11effe978>), ('venir', <gensim.models.word2vec.Vocab object at 0x11effeef0>), ('entendu', <gensim.models.word2vec.Vocab object at 0x11f000a90>), ('préférais', <gensim.models.word2vec.Vocab object at 0x11effe0b8>), ('voudrais', <gensim.models.word2vec.Vocab object at 0x11effea58>), ('ce', <gensim.models.word2vec.Vocab object at 0x11effea90>), ('les', <gensim.models.word2vec.Vocab object at 0x11effeac8>), ('ya', <gensim.models.word2vec.Vocab object at 0x11effeb38>), ('risque', <gensim.models.word2vec.Vocab object at 0x11effeb70>), ('t', <gensim.models.word2vec.Vocab object at 0x11effeba8>), ('ta', <gensim.models.word2vec.Vocab object at 0x11effebe0>), ('qui', <gensim.models.word2vec.Vocab object at 0x11effaa58>), ('chez', <gensim.models.word2vec.Vocab object at 0x11effc908>), ('dis-moi', <gensim.models.word2vec.Vocab object at 0x11effcba8>), ('envoyez-moi', <gensim.models.word2vec.Vocab object at 0x11effecc0>), ('danser', <gensim.models.word2vec.Vocab object at 0x11effecf8>), ('ne', <gensim.models.word2vec.Vocab object at 0x11effed30>), ('picard', <gensim.models.word2vec.Vocab object at 0x11effc438>), ('ça', <gensim.models.word2vec.Vocab object at 0x11effeda0>), ('occupé', <gensim.models.word2vec.Vocab object at 0x11effedd8>), ('quelqu', <gensim.models.word2vec.Vocab object at 0x11effee10>), ('viens', <gensim.models.word2vec.Vocab object at 0x11f000048>), ('avoir', <gensim.models.word2vec.Vocab object at 0x11effee80>), ('il', <gensim.models.word2vec.Vocab object at 0x11effeeb8>), ('m', <gensim.models.word2vec.Vocab object at 0x11effe9b0>), ('ben', <gensim.models.word2vec.Vocab object at 0x11effef28>), ('auriez-vous', <gensim.models.word2vec.Vocab object at 0x11effef60>), ('pourrais', <gensim.models.word2vec.Vocab object at 0x11effef98>), ('cas', <gensim.models.word2vec.Vocab object at 0x11effefd0>), ('sûr', <gensim.models.word2vec.Vocab object at 0x11effee48>), ('disponibles', <gensim.models.word2vec.Vocab object at 0x11f000080>), ('Propose', <gensim.models.word2vec.Vocab object at 0x11f0000b8>), ('demandé', <gensim.models.word2vec.Vocab object at 0x11f000b70>), ('aimerais', <gensim.models.word2vec.Vocab object at 0x11f000128>), ('consultation', <gensim.models.word2vec.Vocab object at 0x11f000ba8>), ('dos', <gensim.models.word2vec.Vocab object at 0x11effa940>), ('confiance', <gensim.models.word2vec.Vocab object at 0x11f000198>), ('cible', <gensim.models.word2vec.Vocab object at 0x11f0001d0>), ('parler', <gensim.models.word2vec.Vocab object at 0x11f000208>), ('revoir', <gensim.models.word2vec.Vocab object at 0x11f000240>), ('demi', <gensim.models.word2vec.Vocab object at 0x11f000278>), ('confirme', <gensim.models.word2vec.Vocab object at 0x11f0002b0>), ('très', <gensim.models.word2vec.Vocab object at 0x11f0002e8>), ('serai', <gensim.models.word2vec.Vocab object at 0x11f000320>), ('serait', <gensim.models.word2vec.Vocab object at 0x11f000358>), ('relation', <gensim.models.word2vec.Vocab object at 0x11f002b70>), ('vas', <gensim.models.word2vec.Vocab object at 0x11f0003c8>), ('réservez', <gensim.models.word2vec.Vocab object at 0x11f000940>), ('échographie', <gensim.models.word2vec.Vocab object at 0x11f000438>), ('quelle', <gensim.models.word2vec.Vocab object at 0x11f000470>), ('peur', <gensim.models.word2vec.Vocab object at 0x11f0004a8>), ('jacques', <gensim.models.word2vec.Vocab object at 0x11f0004e0>), ('souhaiterai', <gensim.models.word2vec.Vocab object at 0x11f000518>), ('faire', <gensim.models.word2vec.Vocab object at 0x11f000550>), ('parfait', <gensim.models.word2vec.Vocab object at 0x11f000588>), ('regarde', <gensim.models.word2vec.Vocab object at 0x11f000160>), ('justement', <gensim.models.word2vec.Vocab object at 0x11f0005c0>), ('créneaux', <gensim.models.word2vec.Vocab object at 0x11effc390>), ('passe-t-il', <gensim.models.word2vec.Vocab object at 0x11effc588>), ('vous', <gensim.models.word2vec.Vocab object at 0x11f0006a0>), ('avez-vous', <gensim.models.word2vec.Vocab object at 0x11f0006d8>), ('souhaitais', <gensim.models.word2vec.Vocab object at 0x11f000710>), ('voulais', <gensim.models.word2vec.Vocab object at 0x11f000748>), ('journée', <gensim.models.word2vec.Vocab object at 0x11f000780>), ('demande', <gensim.models.word2vec.Vocab object at 0x11effcd68>), ('autant', <gensim.models.word2vec.Vocab object at 0x11f0007f0>), ('c', <gensim.models.word2vec.Vocab object at 0x11f000828>), ('savoir', <gensim.models.word2vec.Vocab object at 0x11f000860>), ('fois', <gensim.models.word2vec.Vocab object at 0x11effc828>), ('malade', <gensim.models.word2vec.Vocab object at 0x11f0008d0>), ('qu', <gensim.models.word2vec.Vocab object at 0x11effe160>), ('férié', <gensim.models.word2vec.Vocab object at 0x11f000978>), ('as', <gensim.models.word2vec.Vocab object at 0x11f0009b0>), ('dis', <gensim.models.word2vec.Vocab object at 0x11effaac8>), ('proposez-moi', <gensim.models.word2vec.Vocab object at 0x11f000a20>), ('ouais', <gensim.models.word2vec.Vocab object at 0x11f000a58>), ('saoule', <gensim.models.word2vec.Vocab object at 0x11effe9e8>), ('autre', <gensim.models.word2vec.Vocab object at 0x11f000ac8>), ('sont', <gensim.models.word2vec.Vocab object at 0x11f000b00>), ('arrive', <gensim.models.word2vec.Vocab object at 0x11f000b38>), ('transféré', <gensim.models.word2vec.Vocab object at 0x11f0000f0>), ('demander', <gensim.models.word2vec.Vocab object at 0x11effabe0>), ('ma', <gensim.models.word2vec.Vocab object at 0x11f000be0>), ('être', <gensim.models.word2vec.Vocab object at 0x11f000c18>), ('quels', <gensim.models.word2vec.Vocab object at 0x11effe400>), ('irai', <gensim.models.word2vec.Vocab object at 0x11f000c88>), ('S', <gensim.models.word2vec.Vocab object at 0x11f000cc0>), ('beaucoup', <gensim.models.word2vec.Vocab object at 0x11f000cf8>), ('pe', <gensim.models.word2vec.Vocab object at 0x11f000d30>), ('pensais', <gensim.models.word2vec.Vocab object at 0x11f000d68>), ('annonce', <gensim.models.word2vec.Vocab object at 0x11f000da0>), ('merci', <gensim.models.word2vec.Vocab object at 0x11f000dd8>), ('trop', <gensim.models.word2vec.Vocab object at 0x11f000e10>), ('prochain', <gensim.models.word2vec.Vocab object at 0x11f000e48>), ('mis', <gensim.models.word2vec.Vocab object at 0x11f000e80>), ('faut', <gensim.models.word2vec.Vocab object at 0x11f000eb8>), ('humain', <gensim.models.word2vec.Vocab object at 0x11f000ef0>), ('comme', <gensim.models.word2vec.Vocab object at 0x11f0021d0>), ('avec', <gensim.models.word2vec.Vocab object at 0x11f000f60>), ('convient', <gensim.models.word2vec.Vocab object at 0x11f000f98>), ('est-ce', <gensim.models.word2vec.Vocab object at 0x11f000fd0>), ('iphone', <gensim.models.word2vec.Vocab object at 0x11f002048>), ('seulement', <gensim.models.word2vec.Vocab object at 0x11effe5c0>), ('parles', <gensim.models.word2vec.Vocab object at 0x11f002080>), ('partir', <gensim.models.word2vec.Vocab object at 0x11f0020b8>), ('donne-moi', <gensim.models.word2vec.Vocab object at 0x11effe4a8>), ('voilà', <gensim.models.word2vec.Vocab object at 0x11f002128>), ('pas', <gensim.models.word2vec.Vocab object at 0x11f002160>), ('plutôt', <gensim.models.word2vec.Vocab object at 0x11f002198>), ('te', <gensim.models.word2vec.Vocab object at 0x11f000f28>), ('réserver', <gensim.models.word2vec.Vocab object at 0x11f002208>), ('amour', <gensim.models.word2vec.Vocab object at 0x11f002240>), ('préférer', <gensim.models.word2vec.Vocab object at 0x11f002278>), ('essaye', <gensim.models.word2vec.Vocab object at 0x11f0022b0>), ('TIME', <gensim.models.word2vec.Vocab object at 0x11effada0>), ('répondre', <gensim.models.word2vec.Vocab object at 0x11f002320>), ('jour', <gensim.models.word2vec.Vocab object at 0x11f002358>), ('parce', <gensim.models.word2vec.Vocab object at 0x11f002390>), ('horaires', <gensim.models.word2vec.Vocab object at 0x11f0023c8>), ('préfère', <gensim.models.word2vec.Vocab object at 0x11f002400>), ('que', <gensim.models.word2vec.Vocab object at 0x11f002438>), ('êtes', <gensim.models.word2vec.Vocab object at 0x11effe518>), ('hasard', <gensim.models.word2vec.Vocab object at 0x11f0024a8>), ('nom', <gensim.models.word2vec.Vocab object at 0x11f0024e0>), ('autres', <gensim.models.word2vec.Vocab object at 0x11f002518>), ('choix', <gensim.models.word2vec.Vocab object at 0x11f002550>), ('nous', <gensim.models.word2vec.Vocab object at 0x11f002588>), ('reprend', <gensim.models.word2vec.Vocab object at 0x11f0025c0>), ('désolé', <gensim.models.word2vec.Vocab object at 0x11f0025f8>), ('sur', <gensim.models.word2vec.Vocab object at 0x11f002630>), ('aurai', <gensim.models.word2vec.Vocab object at 0x11f002668>), ('médecin', <gensim.models.word2vec.Vocab object at 0x11f0026a0>), ('avez', <gensim.models.word2vec.Vocab object at 0x11f0026d8>), ('ni', <gensim.models.word2vec.Vocab object at 0x11f002710>), ('ca', <gensim.models.word2vec.Vocab object at 0x11f002748>), ('delaplace', <gensim.models.word2vec.Vocab object at 0x11f002780>), ('$TIME$', <gensim.models.word2vec.Vocab object at 0x11f0027b8>), ('obtenir', <gensim.models.word2vec.Vocab object at 0x11f0027f0>), ('pouvez', <gensim.models.word2vec.Vocab object at 0x11f002828>), ('toute', <gensim.models.word2vec.Vocab object at 0x11f002860>), ('me', <gensim.models.word2vec.Vocab object at 0x11f002898>), ('fais', <gensim.models.word2vec.Vocab object at 0x11f0028d0>), ('nan', <gensim.models.word2vec.Vocab object at 0x11f002908>), ('truc', <gensim.models.word2vec.Vocab object at 0x11f002940>), ('aller', <gensim.models.word2vec.Vocab object at 0x11f002978>), ('passer', <gensim.models.word2vec.Vocab object at 0x11f0029b0>), ('alors', <gensim.models.word2vec.Vocab object at 0x11f0029e8>), ('aussi', <gensim.models.word2vec.Vocab object at 0x11f002a20>), ('tard', <gensim.models.word2vec.Vocab object at 0x11f002a58>), ('préféré', <gensim.models.word2vec.Vocab object at 0x11f002a90>), ('après', <gensim.models.word2vec.Vocab object at 0x11f002ac8>), ('uniquement', <gensim.models.word2vec.Vocab object at 0x11f002b00>), ('y', <gensim.models.word2vec.Vocab object at 0x11f002b38>), ('disponible', <gensim.models.word2vec.Vocab object at 0x11f000390>), ('libre', <gensim.models.word2vec.Vocab object at 0x11f002ba8>), ('marche', <gensim.models.word2vec.Vocab object at 0x11f000668>), ('au', <gensim.models.word2vec.Vocab object at 0x11f002c18>), ('arrangerait', <gensim.models.word2vec.Vocab object at 0x11f002c50>), ('quel', <gensim.models.word2vec.Vocab object at 0x11f002c88>), ('mieux', <gensim.models.word2vec.Vocab object at 0x11f002be0>), ('réservation', <gensim.models.word2vec.Vocab object at 0x11f002cf8>), ('rendez', <gensim.models.word2vec.Vocab object at 0x11f002d30>), ('sors', <gensim.models.word2vec.Vocab object at 0x11f002d68>), ('envie', <gensim.models.word2vec.Vocab object at 0x11f002da0>), ('reprends', <gensim.models.word2vec.Vocab object at 0x11f002cc0>), ('dans', <gensim.models.word2vec.Vocab object at 0x11f002dd8>), ('va', <gensim.models.word2vec.Vocab object at 0x11f002e10>), ('n', <gensim.models.word2vec.Vocab object at 0x11f002e48>), ('a', <gensim.models.word2vec.Vocab object at 0x11f002e80>)])"
      ]
     },
     "execution_count": 11,
     "metadata": {},
     "output_type": "execute_result"
    }
   ],
   "source": [
    "#print(model.vocab)\n",
    "model.wv.vocab.items()"
   ]
  },
  {
   "cell_type": "code",
   "execution_count": null,
   "metadata": {
    "collapsed": true
   },
   "outputs": [],
   "source": []
  },
  {
   "cell_type": "code",
   "execution_count": 60,
   "metadata": {
    "collapsed": false
   },
   "outputs": [],
   "source": []
  },
  {
   "cell_type": "code",
   "execution_count": 71,
   "metadata": {
    "collapsed": false
   },
   "outputs": [],
   "source": [
    "np.random.seed(1350)\n",
    "from keras.models import Sequential\n",
    "from keras.layers import Dense, Dropout, Activation, Flatten\n",
    "from keras.layers import Convolution1D, MaxPooling1D, Embedding\n",
    "from keras.utils import np_utils"
   ]
  },
  {
   "cell_type": "code",
   "execution_count": 72,
   "metadata": {
    "collapsed": false
   },
   "outputs": [],
   "source": [
    "embedding_layer = Embedding(342, 200, weights=[embedding_matrix], trainable=False, input_shape=xtrain.shape) "
   ]
  },
  {
   "cell_type": "code",
   "execution_count": 73,
   "metadata": {
    "collapsed": false
   },
   "outputs": [],
   "source": [
    "model2 = Sequential()\n",
    "model2.add(embedding_layer)"
   ]
  },
  {
   "cell_type": "code",
   "execution_count": 74,
   "metadata": {
    "collapsed": true
   },
   "outputs": [],
   "source": [
    "model2.add(Convolution1D(nb_filter=10, filter_length=10, border_mode='valid', activation='relu', subsample_length=1))"
   ]
  },
  {
   "cell_type": "code",
   "execution_count": 75,
   "metadata": {
    "collapsed": false
   },
   "outputs": [],
   "source": [
    "model2.add(MaxPooling1D())"
   ]
  },
  {
   "cell_type": "code",
   "execution_count": 76,
   "metadata": {
    "collapsed": false
   },
   "outputs": [],
   "source": [
    "model2.add(Dense(10))\n",
    "model2.add(Dropout(0.2))\n",
    "model2.add(Activation('relu'))"
   ]
  },
  {
   "cell_type": "code",
   "execution_count": 77,
   "metadata": {
    "collapsed": false
   },
   "outputs": [],
   "source": [
    "model2.add(Dense(1))\n",
    "model2.add(Activation('sigmoid'))"
   ]
  },
  {
   "cell_type": "code",
   "execution_count": 78,
   "metadata": {
    "collapsed": false
   },
   "outputs": [],
   "source": [
    "model2.compile(loss='sparse_categorical_crossentropy',\n",
    "              optimizer='adam',\n",
    "              metrics=['accuracy'])"
   ]
  },
  {
   "cell_type": "code",
   "execution_count": 79,
   "metadata": {
    "collapsed": true
   },
   "outputs": [],
   "source": [
    "import random\n",
    "def kfolds(k,N,seed=None):\n",
    "    random.seed(seed)\n",
    "    out = [ list() for _ in range(k) ]\n",
    "    for n in range(N): out[random.randrange(k)].append(n)\n",
    "    return(out)\n",
    "\n",
    "K = kfolds(seed=42,k=5,N=len(train))\n",
    "fold1 = sum(K[1:5],[]) # K[1] + K[2] + K[3] + K[4]\n",
    "#fold1 = K[1]+K[2]+K[3]+K[4]\n",
    "xtrain = train.iloc[fold1][train.keys()[1:]]\n",
    "ytrain = train.iloc[fold1][train.keys()[0]]\n",
    "\n",
    "xtest = train.iloc[K[0]][train.keys()[1:]]\n",
    "ytest = train.iloc[K[0]][train.keys()[0]]"
   ]
  },
  {
   "cell_type": "code",
   "execution_count": null,
   "metadata": {
    "collapsed": false
   },
   "outputs": [],
   "source": []
  },
  {
   "cell_type": "code",
   "execution_count": 81,
   "metadata": {
    "collapsed": false
   },
   "outputs": [
    {
     "ename": "ValueError",
     "evalue": "Error when checking model target: expected activation_10 to have 3 dimensions, but got array with shape (642, 1)",
     "output_type": "error",
     "traceback": [
      "\u001b[0;31m---------------------------------------------------------------------------\u001b[0m",
      "\u001b[0;31mValueError\u001b[0m                                Traceback (most recent call last)",
      "\u001b[0;32m<ipython-input-81-0838e7efdead>\u001b[0m in \u001b[0;36m<module>\u001b[0;34m()\u001b[0m\n\u001b[0;32m----> 1\u001b[0;31m \u001b[0mmodel2\u001b[0m\u001b[0;34m.\u001b[0m\u001b[0mfit\u001b[0m\u001b[0;34m(\u001b[0m\u001b[0mxtrain\u001b[0m\u001b[0;34m,\u001b[0m \u001b[0mytrain\u001b[0m\u001b[0;34m,\u001b[0m \u001b[0mbatch_size\u001b[0m\u001b[0;34m=\u001b[0m\u001b[0;36m342\u001b[0m\u001b[0;34m,\u001b[0m \u001b[0mnb_epoch\u001b[0m\u001b[0;34m=\u001b[0m\u001b[0;36m2\u001b[0m\u001b[0;34m,\u001b[0m \u001b[0mvalidation_data\u001b[0m\u001b[0;34m=\u001b[0m\u001b[0;34m(\u001b[0m\u001b[0mxtest\u001b[0m\u001b[0;34m,\u001b[0m \u001b[0mytest\u001b[0m\u001b[0;34m)\u001b[0m\u001b[0;34m)\u001b[0m\u001b[0;34m\u001b[0m\u001b[0m\n\u001b[0m",
      "\u001b[0;32m/Users/Charlie/anaconda/lib/python3.5/site-packages/keras/models.py\u001b[0m in \u001b[0;36mfit\u001b[0;34m(self, x, y, batch_size, nb_epoch, verbose, callbacks, validation_split, validation_data, shuffle, class_weight, sample_weight, initial_epoch, **kwargs)\u001b[0m\n\u001b[1;32m    670\u001b[0m                               \u001b[0mclass_weight\u001b[0m\u001b[0;34m=\u001b[0m\u001b[0mclass_weight\u001b[0m\u001b[0;34m,\u001b[0m\u001b[0;34m\u001b[0m\u001b[0m\n\u001b[1;32m    671\u001b[0m                               \u001b[0msample_weight\u001b[0m\u001b[0;34m=\u001b[0m\u001b[0msample_weight\u001b[0m\u001b[0;34m,\u001b[0m\u001b[0;34m\u001b[0m\u001b[0m\n\u001b[0;32m--> 672\u001b[0;31m                               initial_epoch=initial_epoch)\n\u001b[0m\u001b[1;32m    673\u001b[0m \u001b[0;34m\u001b[0m\u001b[0m\n\u001b[1;32m    674\u001b[0m     def evaluate(self, x, y, batch_size=32, verbose=1,\n",
      "\u001b[0;32m/Users/Charlie/anaconda/lib/python3.5/site-packages/keras/engine/training.py\u001b[0m in \u001b[0;36mfit\u001b[0;34m(self, x, y, batch_size, nb_epoch, verbose, callbacks, validation_split, validation_data, shuffle, class_weight, sample_weight, initial_epoch)\u001b[0m\n\u001b[1;32m   1114\u001b[0m             \u001b[0mclass_weight\u001b[0m\u001b[0;34m=\u001b[0m\u001b[0mclass_weight\u001b[0m\u001b[0;34m,\u001b[0m\u001b[0;34m\u001b[0m\u001b[0m\n\u001b[1;32m   1115\u001b[0m             \u001b[0mcheck_batch_axis\u001b[0m\u001b[0;34m=\u001b[0m\u001b[0;32mFalse\u001b[0m\u001b[0;34m,\u001b[0m\u001b[0;34m\u001b[0m\u001b[0m\n\u001b[0;32m-> 1116\u001b[0;31m             batch_size=batch_size)\n\u001b[0m\u001b[1;32m   1117\u001b[0m         \u001b[0;31m# prepare validation data\u001b[0m\u001b[0;34m\u001b[0m\u001b[0;34m\u001b[0m\u001b[0m\n\u001b[1;32m   1118\u001b[0m         \u001b[0;32mif\u001b[0m \u001b[0mvalidation_data\u001b[0m\u001b[0;34m:\u001b[0m\u001b[0;34m\u001b[0m\u001b[0m\n",
      "\u001b[0;32m/Users/Charlie/anaconda/lib/python3.5/site-packages/keras/engine/training.py\u001b[0m in \u001b[0;36m_standardize_user_data\u001b[0;34m(self, x, y, sample_weight, class_weight, check_batch_axis, batch_size)\u001b[0m\n\u001b[1;32m   1031\u001b[0m                                    \u001b[0moutput_shapes\u001b[0m\u001b[0;34m,\u001b[0m\u001b[0;34m\u001b[0m\u001b[0m\n\u001b[1;32m   1032\u001b[0m                                    \u001b[0mcheck_batch_axis\u001b[0m\u001b[0;34m=\u001b[0m\u001b[0;32mFalse\u001b[0m\u001b[0;34m,\u001b[0m\u001b[0;34m\u001b[0m\u001b[0m\n\u001b[0;32m-> 1033\u001b[0;31m                                    exception_prefix='model target')\n\u001b[0m\u001b[1;32m   1034\u001b[0m         sample_weights = standardize_sample_weights(sample_weight,\n\u001b[1;32m   1035\u001b[0m                                                     self.output_names)\n",
      "\u001b[0;32m/Users/Charlie/anaconda/lib/python3.5/site-packages/keras/engine/training.py\u001b[0m in \u001b[0;36mstandardize_input_data\u001b[0;34m(data, names, shapes, check_batch_axis, exception_prefix)\u001b[0m\n\u001b[1;32m    110\u001b[0m                                  \u001b[0;34m' to have '\u001b[0m \u001b[0;34m+\u001b[0m \u001b[0mstr\u001b[0m\u001b[0;34m(\u001b[0m\u001b[0mlen\u001b[0m\u001b[0;34m(\u001b[0m\u001b[0mshapes\u001b[0m\u001b[0;34m[\u001b[0m\u001b[0mi\u001b[0m\u001b[0;34m]\u001b[0m\u001b[0;34m)\u001b[0m\u001b[0;34m)\u001b[0m \u001b[0;34m+\u001b[0m\u001b[0;34m\u001b[0m\u001b[0m\n\u001b[1;32m    111\u001b[0m                                  \u001b[0;34m' dimensions, but got array with shape '\u001b[0m \u001b[0;34m+\u001b[0m\u001b[0;34m\u001b[0m\u001b[0m\n\u001b[0;32m--> 112\u001b[0;31m                                  str(array.shape))\n\u001b[0m\u001b[1;32m    113\u001b[0m             \u001b[0;32mfor\u001b[0m \u001b[0mj\u001b[0m\u001b[0;34m,\u001b[0m \u001b[0;34m(\u001b[0m\u001b[0mdim\u001b[0m\u001b[0;34m,\u001b[0m \u001b[0mref_dim\u001b[0m\u001b[0;34m)\u001b[0m \u001b[0;32min\u001b[0m \u001b[0menumerate\u001b[0m\u001b[0;34m(\u001b[0m\u001b[0mzip\u001b[0m\u001b[0;34m(\u001b[0m\u001b[0marray\u001b[0m\u001b[0;34m.\u001b[0m\u001b[0mshape\u001b[0m\u001b[0;34m,\u001b[0m \u001b[0mshapes\u001b[0m\u001b[0;34m[\u001b[0m\u001b[0mi\u001b[0m\u001b[0;34m]\u001b[0m\u001b[0;34m)\u001b[0m\u001b[0;34m)\u001b[0m\u001b[0;34m:\u001b[0m\u001b[0;34m\u001b[0m\u001b[0m\n\u001b[1;32m    114\u001b[0m                 \u001b[0;32mif\u001b[0m \u001b[0;32mnot\u001b[0m \u001b[0mj\u001b[0m \u001b[0;32mand\u001b[0m \u001b[0;32mnot\u001b[0m \u001b[0mcheck_batch_axis\u001b[0m\u001b[0;34m:\u001b[0m\u001b[0;34m\u001b[0m\u001b[0m\n",
      "\u001b[0;31mValueError\u001b[0m: Error when checking model target: expected activation_10 to have 3 dimensions, but got array with shape (642, 1)"
     ]
    }
   ],
   "source": [
    "model2.fit(xtrain, ytrain, batch_size=342, nb_epoch=2, validation_data=(xtest, ytest))"
   ]
  },
  {
   "cell_type": "markdown",
   "metadata": {},
   "source": [
    "## Label Encoder / Bag of Words + ML"
   ]
  },
  {
   "cell_type": "code",
   "execution_count": 24,
   "metadata": {
    "collapsed": false
   },
   "outputs": [
    {
     "data": {
      "text/html": [
       "<div>\n",
       "<table border=\"1\" class=\"dataframe\">\n",
       "  <thead>\n",
       "    <tr style=\"text-align: right;\">\n",
       "      <th></th>\n",
       "      <th>Cible</th>\n",
       "      <th>Mot1</th>\n",
       "      <th>Mot2</th>\n",
       "      <th>Mot3</th>\n",
       "      <th>Mot4</th>\n",
       "      <th>Mot5</th>\n",
       "      <th>Mot6</th>\n",
       "      <th>Mot7</th>\n",
       "      <th>Mot8</th>\n",
       "      <th>Mot9</th>\n",
       "      <th>Mot10</th>\n",
       "    </tr>\n",
       "  </thead>\n",
       "  <tbody>\n",
       "    <tr>\n",
       "      <th>0</th>\n",
       "      <td>Confirm</td>\n",
       "      <td>OK</td>\n",
       "      <td>NaN</td>\n",
       "      <td>NaN</td>\n",
       "      <td>NaN</td>\n",
       "      <td>NaN</td>\n",
       "      <td>NaN</td>\n",
       "      <td>NaN</td>\n",
       "      <td>NaN</td>\n",
       "      <td>NaN</td>\n",
       "      <td>NaN</td>\n",
       "    </tr>\n",
       "    <tr>\n",
       "      <th>1</th>\n",
       "      <td>Confirm</td>\n",
       "      <td>absolument</td>\n",
       "      <td>NaN</td>\n",
       "      <td>NaN</td>\n",
       "      <td>NaN</td>\n",
       "      <td>NaN</td>\n",
       "      <td>NaN</td>\n",
       "      <td>NaN</td>\n",
       "      <td>NaN</td>\n",
       "      <td>NaN</td>\n",
       "      <td>NaN</td>\n",
       "    </tr>\n",
       "    <tr>\n",
       "      <th>2</th>\n",
       "      <td>Confirm</td>\n",
       "      <td>ah</td>\n",
       "      <td>oui</td>\n",
       "      <td>ça</td>\n",
       "      <td>c</td>\n",
       "      <td>est</td>\n",
       "      <td>bien</td>\n",
       "      <td>ça</td>\n",
       "      <td>comme</td>\n",
       "      <td>ça</td>\n",
       "      <td>NaN</td>\n",
       "    </tr>\n",
       "    <tr>\n",
       "      <th>3</th>\n",
       "      <td>Confirm</td>\n",
       "      <td>aller</td>\n",
       "      <td>NaN</td>\n",
       "      <td>NaN</td>\n",
       "      <td>NaN</td>\n",
       "      <td>NaN</td>\n",
       "      <td>NaN</td>\n",
       "      <td>NaN</td>\n",
       "      <td>NaN</td>\n",
       "      <td>NaN</td>\n",
       "      <td>NaN</td>\n",
       "    </tr>\n",
       "    <tr>\n",
       "      <th>4</th>\n",
       "      <td>Confirm</td>\n",
       "      <td>allez</td>\n",
       "      <td>c</td>\n",
       "      <td>est</td>\n",
       "      <td>bon</td>\n",
       "      <td>pour</td>\n",
       "      <td>$TIME$</td>\n",
       "      <td>NaN</td>\n",
       "      <td>NaN</td>\n",
       "      <td>NaN</td>\n",
       "      <td>NaN</td>\n",
       "    </tr>\n",
       "  </tbody>\n",
       "</table>\n",
       "</div>"
      ],
      "text/plain": [
       "     Cible        Mot1 Mot2 Mot3 Mot4  Mot5    Mot6 Mot7   Mot8 Mot9 Mot10\n",
       "0  Confirm          OK  NaN  NaN  NaN   NaN     NaN  NaN    NaN  NaN   NaN\n",
       "1  Confirm  absolument  NaN  NaN  NaN   NaN     NaN  NaN    NaN  NaN   NaN\n",
       "2  Confirm          ah  oui   ça    c   est    bien   ça  comme   ça   NaN\n",
       "3  Confirm       aller  NaN  NaN  NaN   NaN     NaN  NaN    NaN  NaN   NaN\n",
       "4  Confirm       allez    c  est  bon  pour  $TIME$  NaN    NaN  NaN   NaN"
      ]
     },
     "execution_count": 24,
     "metadata": {},
     "output_type": "execute_result"
    }
   ],
   "source": [
    "train.head()"
   ]
  },
  {
   "cell_type": "code",
   "execution_count": 25,
   "metadata": {
    "collapsed": false
   },
   "outputs": [
    {
     "data": {
      "text/plain": [
       "'../IntroductionDL/calldesk-intents.txt'"
      ]
     },
     "execution_count": 25,
     "metadata": {},
     "output_type": "execute_result"
    }
   ],
   "source": [
    "dataf"
   ]
  },
  {
   "cell_type": "code",
   "execution_count": 5,
   "metadata": {
    "collapsed": false
   },
   "outputs": [],
   "source": [
    "le.fit(train['Cible'])\n",
    "list(le.classes_)\n",
    "train['Cible'] = le.transform(train['Cible'])\n",
    "\n",
    "#pd.get_dummies\n",
    "train_Mot1 = pd.get_dummies(train['Mot1'])\n",
    "train_Mot2 = pd.get_dummies(train['Mot2'])\n",
    "train_Mot3 = pd.get_dummies(train['Mot3'])\n",
    "train_Mot4 = pd.get_dummies(train['Mot4'])\n",
    "train_Mot5 = pd.get_dummies(train['Mot5'])\n",
    "train_Mot6 = pd.get_dummies(train['Mot6'])\n",
    "train_Mot7 = pd.get_dummies(train['Mot7'])\n",
    "train_Mot8 = pd.get_dummies(train['Mot8'])\n",
    "train_Mot9 = pd.get_dummies(train['Mot9'])\n",
    "train_Mot10 = pd.get_dummies(train['Mot10'])\n",
    "train_new = pd.concat([train,train_Mot1,train_Mot2,train_Mot3,train_Mot4,train_Mot5,train_Mot6,train_Mot7,train_Mot8,train_Mot9,train_Mot10],axis=1)\n",
    "\n",
    "#Suppression des doublons\n",
    "\n",
    "del train_new['Mot1']\n",
    "del train_new['Mot2']\n",
    "del train_new['Mot3']\n",
    "del train_new['Mot4']\n",
    "del train_new['Mot5']\n",
    "del train_new['Mot6']\n",
    "del train_new['Mot7']\n",
    "del train_new['Mot8']\n",
    "del train_new['Mot9']\n",
    "del train_new['Mot10']\n",
    "\n",
    "\n",
    "#del train_new['Finess']"
   ]
  },
  {
   "cell_type": "code",
   "execution_count": 6,
   "metadata": {
    "collapsed": false
   },
   "outputs": [
    {
     "data": {
      "text/html": [
       "<div>\n",
       "<table border=\"1\" class=\"dataframe\">\n",
       "  <thead>\n",
       "    <tr style=\"text-align: right;\">\n",
       "      <th></th>\n",
       "      <th>Cible</th>\n",
       "      <th>$TIME$</th>\n",
       "      <th>OK</th>\n",
       "      <th>a-t-il</th>\n",
       "      <th>absolument</th>\n",
       "      <th>accessible</th>\n",
       "      <th>ah</th>\n",
       "      <th>ajouter</th>\n",
       "      <th>aller</th>\n",
       "      <th>allez</th>\n",
       "      <th>...</th>\n",
       "      <th>prochain</th>\n",
       "      <th>prochains</th>\n",
       "      <th>que</th>\n",
       "      <th>rendez-vous</th>\n",
       "      <th>revoir</th>\n",
       "      <th>s</th>\n",
       "      <th>te</th>\n",
       "      <th>une</th>\n",
       "      <th>voir</th>\n",
       "      <th>vous</th>\n",
       "    </tr>\n",
       "  </thead>\n",
       "  <tbody>\n",
       "    <tr>\n",
       "      <th>0</th>\n",
       "      <td>0</td>\n",
       "      <td>0</td>\n",
       "      <td>1</td>\n",
       "      <td>0</td>\n",
       "      <td>0</td>\n",
       "      <td>0</td>\n",
       "      <td>0</td>\n",
       "      <td>0</td>\n",
       "      <td>0</td>\n",
       "      <td>0</td>\n",
       "      <td>...</td>\n",
       "      <td>0</td>\n",
       "      <td>0</td>\n",
       "      <td>0</td>\n",
       "      <td>0</td>\n",
       "      <td>0</td>\n",
       "      <td>0</td>\n",
       "      <td>0</td>\n",
       "      <td>0</td>\n",
       "      <td>0</td>\n",
       "      <td>0</td>\n",
       "    </tr>\n",
       "    <tr>\n",
       "      <th>1</th>\n",
       "      <td>0</td>\n",
       "      <td>0</td>\n",
       "      <td>0</td>\n",
       "      <td>0</td>\n",
       "      <td>1</td>\n",
       "      <td>0</td>\n",
       "      <td>0</td>\n",
       "      <td>0</td>\n",
       "      <td>0</td>\n",
       "      <td>0</td>\n",
       "      <td>...</td>\n",
       "      <td>0</td>\n",
       "      <td>0</td>\n",
       "      <td>0</td>\n",
       "      <td>0</td>\n",
       "      <td>0</td>\n",
       "      <td>0</td>\n",
       "      <td>0</td>\n",
       "      <td>0</td>\n",
       "      <td>0</td>\n",
       "      <td>0</td>\n",
       "    </tr>\n",
       "    <tr>\n",
       "      <th>2</th>\n",
       "      <td>0</td>\n",
       "      <td>0</td>\n",
       "      <td>0</td>\n",
       "      <td>0</td>\n",
       "      <td>0</td>\n",
       "      <td>0</td>\n",
       "      <td>1</td>\n",
       "      <td>0</td>\n",
       "      <td>0</td>\n",
       "      <td>0</td>\n",
       "      <td>...</td>\n",
       "      <td>0</td>\n",
       "      <td>0</td>\n",
       "      <td>0</td>\n",
       "      <td>0</td>\n",
       "      <td>0</td>\n",
       "      <td>0</td>\n",
       "      <td>0</td>\n",
       "      <td>0</td>\n",
       "      <td>0</td>\n",
       "      <td>0</td>\n",
       "    </tr>\n",
       "    <tr>\n",
       "      <th>3</th>\n",
       "      <td>0</td>\n",
       "      <td>0</td>\n",
       "      <td>0</td>\n",
       "      <td>0</td>\n",
       "      <td>0</td>\n",
       "      <td>0</td>\n",
       "      <td>0</td>\n",
       "      <td>0</td>\n",
       "      <td>1</td>\n",
       "      <td>0</td>\n",
       "      <td>...</td>\n",
       "      <td>0</td>\n",
       "      <td>0</td>\n",
       "      <td>0</td>\n",
       "      <td>0</td>\n",
       "      <td>0</td>\n",
       "      <td>0</td>\n",
       "      <td>0</td>\n",
       "      <td>0</td>\n",
       "      <td>0</td>\n",
       "      <td>0</td>\n",
       "    </tr>\n",
       "    <tr>\n",
       "      <th>4</th>\n",
       "      <td>0</td>\n",
       "      <td>0</td>\n",
       "      <td>0</td>\n",
       "      <td>0</td>\n",
       "      <td>0</td>\n",
       "      <td>0</td>\n",
       "      <td>0</td>\n",
       "      <td>0</td>\n",
       "      <td>0</td>\n",
       "      <td>1</td>\n",
       "      <td>...</td>\n",
       "      <td>0</td>\n",
       "      <td>0</td>\n",
       "      <td>0</td>\n",
       "      <td>0</td>\n",
       "      <td>0</td>\n",
       "      <td>0</td>\n",
       "      <td>0</td>\n",
       "      <td>0</td>\n",
       "      <td>0</td>\n",
       "      <td>0</td>\n",
       "    </tr>\n",
       "  </tbody>\n",
       "</table>\n",
       "<p>5 rows × 891 columns</p>\n",
       "</div>"
      ],
      "text/plain": [
       "   Cible  $TIME$  OK  a-t-il  absolument  accessible  ah  ajouter  aller  \\\n",
       "0      0       0   1       0           0           0   0        0      0   \n",
       "1      0       0   0       0           1           0   0        0      0   \n",
       "2      0       0   0       0           0           0   1        0      0   \n",
       "3      0       0   0       0           0           0   0        0      1   \n",
       "4      0       0   0       0           0           0   0        0      0   \n",
       "\n",
       "   allez  ...   prochain  prochains  que  rendez-vous  revoir  s  te  une  \\\n",
       "0      0  ...          0          0    0            0       0  0   0    0   \n",
       "1      0  ...          0          0    0            0       0  0   0    0   \n",
       "2      0  ...          0          0    0            0       0  0   0    0   \n",
       "3      0  ...          0          0    0            0       0  0   0    0   \n",
       "4      1  ...          0          0    0            0       0  0   0    0   \n",
       "\n",
       "   voir  vous  \n",
       "0     0     0  \n",
       "1     0     0  \n",
       "2     0     0  \n",
       "3     0     0  \n",
       "4     0     0  \n",
       "\n",
       "[5 rows x 891 columns]"
      ]
     },
     "execution_count": 6,
     "metadata": {},
     "output_type": "execute_result"
    }
   ],
   "source": [
    "train_new.head()"
   ]
  },
  {
   "cell_type": "code",
   "execution_count": 7,
   "metadata": {
    "collapsed": false
   },
   "outputs": [
    {
     "data": {
      "text/plain": [
       "ah       1\n",
       "oui      1\n",
       "ça       1\n",
       "c        1\n",
       "est      1\n",
       "bien     1\n",
       "ça       1\n",
       "comme    1\n",
       "ça       1\n",
       "Name: 2, dtype: int64"
      ]
     },
     "execution_count": 7,
     "metadata": {},
     "output_type": "execute_result"
    }
   ],
   "source": [
    "train_new.iloc[2][train_new.iloc[2]>0]"
   ]
  },
  {
   "cell_type": "code",
   "execution_count": 8,
   "metadata": {
    "collapsed": false
   },
   "outputs": [],
   "source": [
    "import random\n",
    "def kfolds(k,N,seed=None):\n",
    "    random.seed(seed)\n",
    "    out = [ list() for _ in range(k) ]\n",
    "    for n in range(N): out[random.randrange(k)].append(n)\n",
    "    return(out)\n",
    "\n",
    "K = kfolds(seed=42,k=5,N=len(train_new))\n",
    "fold1 = sum(K[1:5],[]) # K[1] + K[2] + K[3] + K[4]\n",
    "#fold1 = K[1]+K[2]+K[3]+K[4]\n",
    "xtrain = train_new.iloc[fold1][train_new.keys()[1:]]\n",
    "ytrain = train_new.iloc[fold1][train_new.keys()[0]]\n",
    "\n",
    "xtest = train_new.iloc[K[0]][train_new.keys()[1:]]\n",
    "ytest = train_new.iloc[K[0]][train_new.keys()[0]]"
   ]
  },
  {
   "cell_type": "code",
   "execution_count": 9,
   "metadata": {
    "collapsed": false
   },
   "outputs": [],
   "source": [
    "from sklearn.ensemble import RandomForestClassifier\n",
    "#\n",
    "clf = RandomForestClassifier(n_estimators=10, max_depth=None,min_samples_split=2, random_state=0)"
   ]
  },
  {
   "cell_type": "code",
   "execution_count": 10,
   "metadata": {
    "collapsed": false,
    "scrolled": true
   },
   "outputs": [],
   "source": [
    "fitclf = clf.fit(xtrain,ytrain)"
   ]
  },
  {
   "cell_type": "code",
   "execution_count": 11,
   "metadata": {
    "collapsed": false
   },
   "outputs": [
    {
     "data": {
      "text/plain": [
       "0.87341772151898733"
      ]
     },
     "execution_count": 11,
     "metadata": {},
     "output_type": "execute_result"
    }
   ],
   "source": [
    "fitclf.score(xtest,ytest)"
   ]
  },
  {
   "cell_type": "code",
   "execution_count": 12,
   "metadata": {
    "collapsed": true
   },
   "outputs": [],
   "source": [
    "from sklearn.ensemble import GradientBoostingClassifier\n",
    "gbc = GradientBoostingClassifier()"
   ]
  },
  {
   "cell_type": "code",
   "execution_count": 13,
   "metadata": {
    "collapsed": true
   },
   "outputs": [],
   "source": [
    "fitgbc = gbc.fit(xtrain,ytrain)"
   ]
  },
  {
   "cell_type": "code",
   "execution_count": 14,
   "metadata": {
    "collapsed": false
   },
   "outputs": [
    {
     "data": {
      "text/plain": [
       "0.83544303797468356"
      ]
     },
     "execution_count": 14,
     "metadata": {},
     "output_type": "execute_result"
    }
   ],
   "source": [
    "fitgbc.score(xtest,ytest)"
   ]
  },
  {
   "cell_type": "markdown",
   "metadata": {},
   "source": [
    "# Use of nltk to improve the data cleaning"
   ]
  },
  {
   "cell_type": "code",
   "execution_count": 28,
   "metadata": {
    "collapsed": false
   },
   "outputs": [],
   "source": [
    "import nltk\n",
    "from nltk import word_tokenize\n",
    "#nltk.download()"
   ]
  },
  {
   "cell_type": "code",
   "execution_count": 29,
   "metadata": {
    "collapsed": false
   },
   "outputs": [
    {
     "name": "stdout",
     "output_type": "stream",
     "text": [
      "['Nous', 'somm', 'le', 'mond']\n"
     ]
    }
   ],
   "source": [
    "import snowballstemmer\n",
    "\n",
    "stemmer = snowballstemmer.stemmer('french');\n",
    "print(stemmer.stemWords(\"Nous sommes le monde\".split()));"
   ]
  },
  {
   "cell_type": "markdown",
   "metadata": {
    "collapsed": true
   },
   "source": [
    "# Word2vec method"
   ]
  },
  {
   "cell_type": "markdown",
   "metadata": {},
   "source": [
    "Training"
   ]
  },
  {
   "cell_type": "code",
   "execution_count": 15,
   "metadata": {
    "collapsed": true
   },
   "outputs": [],
   "source": [
    "import word2vec"
   ]
  },
  {
   "cell_type": "code",
   "execution_count": 19,
   "metadata": {
    "collapsed": false
   },
   "outputs": [],
   "source": [
    "#Create better input for word2vec\n",
    "word2vec.word2phrase(dataf, datapath + \"calldesk-intents-phrases.txt\" , verbose=True)"
   ]
  },
  {
   "cell_type": "code",
   "execution_count": 20,
   "metadata": {
    "collapsed": false
   },
   "outputs": [
    {
     "name": "stdout",
     "output_type": "stream",
     "text": [
      "b'Starting training using file ../IntroductionDL/calldesk-intents-phrases.txt\\n'b'Vocab size: 108\\n'b'Words in train file: 6991\\n'"
     ]
    }
   ],
   "source": [
    "word2vec.word2clusters(datapath + \"calldesk-intents-phrases.txt\", datapath + \"calldesk-intents-clusters.txt\", 100, verbose=True)"
   ]
  },
  {
   "cell_type": "markdown",
   "metadata": {},
   "source": [
    "Predictions"
   ]
  },
  {
   "cell_type": "code",
   "execution_count": 31,
   "metadata": {
    "collapsed": false
   },
   "outputs": [
    {
     "ename": "AttributeError",
     "evalue": "module 'word2vec' has no attribute 'load_word2vec_format'",
     "output_type": "error",
     "traceback": [
      "\u001b[0;31m---------------------------------------------------------------------------\u001b[0m",
      "\u001b[0;31mAttributeError\u001b[0m                            Traceback (most recent call last)",
      "\u001b[0;32m<ipython-input-31-16a7086a3c73>\u001b[0m in \u001b[0;36m<module>\u001b[0;34m()\u001b[0m\n\u001b[0;32m----> 1\u001b[0;31m \u001b[0mmodel\u001b[0m \u001b[0;34m=\u001b[0m \u001b[0mword2vec\u001b[0m\u001b[0;34m.\u001b[0m\u001b[0mload_word2vec_format\u001b[0m\u001b[0;34m(\u001b[0m\u001b[0mdatapath\u001b[0m \u001b[0;34m+\u001b[0m \u001b[0;34m\"calldesk-intents-clusters.txt\"\u001b[0m\u001b[0;34m,\u001b[0m \u001b[0mbinary\u001b[0m\u001b[0;34m=\u001b[0m\u001b[0;32mFalse\u001b[0m\u001b[0;34m)\u001b[0m\u001b[0;34m\u001b[0m\u001b[0m\n\u001b[0m",
      "\u001b[0;31mAttributeError\u001b[0m: module 'word2vec' has no attribute 'load_word2vec_format'"
     ]
    }
   ],
   "source": [
    "model = word2vec.load_word2vec_format(datapath + \"calldesk-intents-clusters.txt\", binary=False)"
   ]
  },
  {
   "cell_type": "markdown",
   "metadata": {},
   "source": [
    "# TensorFlow Word2Vec"
   ]
  },
  {
   "cell_type": "code",
   "execution_count": 39,
   "metadata": {
    "collapsed": true
   },
   "outputs": [],
   "source": [
    "import math"
   ]
  },
  {
   "cell_type": "code",
   "execution_count": 40,
   "metadata": {
    "collapsed": true
   },
   "outputs": [],
   "source": [
    "vocabulary_size = 50000\n",
    "embedding_size = 200"
   ]
  },
  {
   "cell_type": "code",
   "execution_count": 41,
   "metadata": {
    "collapsed": false
   },
   "outputs": [],
   "source": [
    "embeddings = tf.Variable(\n",
    "    tf.random_uniform([vocabulary_size, embedding_size], -1.0, 1.0))\n",
    "nce_weights = tf.Variable(\n",
    "  tf.truncated_normal([vocabulary_size, embedding_size],\n",
    "                      stddev=1.0 / math.sqrt(embedding_size)))\n",
    "nce_biases = tf.Variable(tf.zeros([vocabulary_size]))"
   ]
  },
  {
   "cell_type": "code",
   "execution_count": 37,
   "metadata": {
    "collapsed": false
   },
   "outputs": [
    {
     "data": {
      "text/plain": [
       "<tensorflow.python.ops.variables.Variable at 0x104431860>"
      ]
     },
     "execution_count": 37,
     "metadata": {},
     "output_type": "execute_result"
    }
   ],
   "source": [
    "embeddings"
   ]
  },
  {
   "cell_type": "code",
   "execution_count": null,
   "metadata": {
    "collapsed": true
   },
   "outputs": [],
   "source": []
  }
 ],
 "metadata": {
  "anaconda-cloud": {},
  "kernelspec": {
   "display_name": "Python [default]",
   "language": "python",
   "name": "python3"
  },
  "language_info": {
   "codemirror_mode": {
    "name": "ipython",
    "version": 3
   },
   "file_extension": ".py",
   "mimetype": "text/x-python",
   "name": "python",
   "nbconvert_exporter": "python",
   "pygments_lexer": "ipython3",
   "version": "3.5.2"
  }
 },
 "nbformat": 4,
 "nbformat_minor": 0
}
