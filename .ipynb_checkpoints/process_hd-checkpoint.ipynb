{
 "cells": [
  {
   "cell_type": "markdown",
   "metadata": {},
   "source": [
    "# Traitement des données hospi-diag"
   ]
  },
  {
   "cell_type": "code",
   "execution_count": 3,
   "metadata": {
    "collapsed": false,
    "scrolled": true
   },
   "outputs": [
    {
     "name": "stdout",
     "output_type": "stream",
     "text": [
      "processing 2008\n",
      "\n",
      "done 2008\n",
      "\n",
      "processing 2009\n",
      "\n",
      "done 2009\n",
      "\n",
      "processing 2010\n",
      "\n",
      "done 2010\n",
      "\n",
      "processing 2011\n",
      "\n",
      "done 2011\n",
      "\n",
      "processing 2012\n",
      "\n",
      "done 2012\n",
      "\n",
      "processing 2013\n",
      "\n",
      "done 2013\n",
      "\n",
      "processing 2014\n",
      "\n",
      "done 2014\n",
      "\n",
      "processing 2015\n",
      "\n",
      "done 2015\n",
      "\n"
     ]
    }
   ],
   "source": [
    "import pandas as pd\n",
    "import os\n",
    "\n",
    "data_folder = './data/'\n",
    "years = ['2008', '2009', '2010', '2011', '2012', '2013', '2014', '2015']\n",
    "\n",
    "categorical_mapping = {'.z' : -3,\n",
    "                       '.c' : -2,\n",
    "                       '.m' : -1\n",
    "                      }\n",
    "\n",
    "def mapping(x):\n",
    "    try:\n",
    "        return categorical_mapping[x]\n",
    "    except:\n",
    "        return x\n",
    "\n",
    "aggregated_dataframes = {}\n",
    "\n",
    "for y in years:\n",
    "    print('processing ',y)\n",
    "    for filename in os.listdir(os.path.join(data_folder, 'indicateur_annee', y)):\n",
    "        if filename.endswith(\".csv\") and filename.startswith('hd'):\n",
    "            data_hd = pd.read_csv(os.path.join(data_folder, 'indicateur_annee', y, filename), encoding='utf-8', sep=';')\n",
    "            continue\n",
    "\n",
    "    for col in data_hd.columns:\n",
    "        data_hd[col] = data_hd[col].map(mapping)\n",
    "\n",
    "    data_hd.fillna(-4, inplace=True)\n",
    "    data_hd['annee'] = y\n",
    "    aggregated_dataframes[y] = data_hd\n",
    "    print()\n",
    "    print('done ', y)\n",
    "    print()\n",
    "result = pd.concat(aggregated_dataframes)\n",
    "result.to_csv(os.path.join(data_folder, 'data_hd.csv'), encoding='utf-8', sep=';')"
   ]
  },
  {
   "cell_type": "code",
   "execution_count": null,
   "metadata": {
    "collapsed": true
   },
   "outputs": [],
   "source": []
  }
 ],
 "metadata": {
  "anaconda-cloud": {},
  "kernelspec": {
   "display_name": "Python [default]",
   "language": "python",
   "name": "python3"
  },
  "language_info": {
   "codemirror_mode": {
    "name": "ipython",
    "version": 3
   },
   "file_extension": ".py",
   "mimetype": "text/x-python",
   "name": "python",
   "nbconvert_exporter": "python",
   "pygments_lexer": "ipython3",
   "version": "3.5.2"
  }
 },
 "nbformat": 4,
 "nbformat_minor": 0
}
